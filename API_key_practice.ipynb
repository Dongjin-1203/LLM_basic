{
  "nbformat": 4,
  "nbformat_minor": 0,
  "metadata": {
    "colab": {
      "provenance": [],
      "authorship_tag": "ABX9TyM7qi1zugBbm/1KxhNmblS/",
      "include_colab_link": true
    },
    "kernelspec": {
      "name": "python3",
      "display_name": "Python 3"
    },
    "language_info": {
      "name": "python"
    }
  },
  "cells": [
    {
      "cell_type": "markdown",
      "metadata": {
        "id": "view-in-github",
        "colab_type": "text"
      },
      "source": [
        "<a href=\"https://colab.research.google.com/github/Dongjin-1203/LLM_basic/blob/main/API_key_practice.ipynb\" target=\"_parent\"><img src=\"https://colab.research.google.com/assets/colab-badge.svg\" alt=\"Open In Colab\"/></a>"
      ]
    },
    {
      "cell_type": "markdown",
      "source": [
        "# API 키 활용 및 연습\n",
        "\n",
        "이 파일은 API키를 등록하고 openai, claude api를 불러와 간단한 실습을 해볼 예정이다."
      ],
      "metadata": {
        "id": "fn5Ww69cV_Ny"
      }
    },
    {
      "cell_type": "markdown",
      "source": [
        "## 1. API 불러오기"
      ],
      "metadata": {
        "id": "GoDxcg7hWOvy"
      }
    },
    {
      "cell_type": "code",
      "execution_count": null,
      "metadata": {
        "id": "k3EeWADdPYNm"
      },
      "outputs": [],
      "source": [
        "# 로컬 방식\n",
        "import os\n",
        "import openai\n",
        "\n",
        "# API 가져오기\n",
        "openai.api_key = os.environ[\"openai_api_key\"]"
      ]
    },
    {
      "cell_type": "markdown",
      "source": [
        "이 방식은 로컬, 코랩 둘다 사용가능한 방식이다. env파일내부의 api변수를 찾아오는 방식이다. 코랩환경에서 env파일을 올리는 것은 그닥 좋은 방법이 아닌 듯 하다."
      ],
      "metadata": {
        "id": "-ul7Mf4FWVwT"
      }
    },
    {
      "cell_type": "code",
      "source": [
        "# Colab 방식\n",
        "from google.colab import userdata\n",
        "import openai\n",
        "\n",
        "openai.api_key = userdata.get(\"openai_api_key\")"
      ],
      "metadata": {
        "id": "_on32wORWnRs"
      },
      "execution_count": null,
      "outputs": []
    },
    {
      "cell_type": "code",
      "source": [],
      "metadata": {
        "id": "tXfhYpPEWw73"
      },
      "execution_count": null,
      "outputs": []
    },
    {
      "cell_type": "markdown",
      "source": [
        "## 2. API 실습\n",
        "\n",
        "Learn Prompting: https://learnprompting.org/    \n",
        "    - 무료 온라인 코스, 한국어 지원\n",
        "\n",
        "📖 심화 학습 자료\n",
        "\n",
        "1. \"The Prompt Report\" - 프롬프트 엔지니어링 가이드북\n",
        "2. YouTube - \"Prompt Engineering by Andrew Ng\"\n",
        "3. GitHub - Awesome Prompts: https://github.com/f/awesome-chatgpt-prompts"
      ],
      "metadata": {
        "id": "W2BO2Wg2X2bO"
      }
    },
    {
      "cell_type": "markdown",
      "source": [
        "### Openai API\n",
        "\n",
        "- https://platform.openai.com/docs\n",
        "    - Respose API 섹션 중점 학습\n",
        "- https://platform.openai.com/docs/guides/prompt-engineering\n",
        "    - 프롬프트 엔지니어링 학습\n",
        "- https://platform.openai.com/playground\n",
        "    - 코드 작성 전 프롬프트 테스트"
      ],
      "metadata": {
        "id": "FT2XTCA0X-fw"
      }
    },
    {
      "cell_type": "code",
      "source": [
        "# Colab 방식\n",
        "from google.colab import userdata\n",
        "import openai\n",
        "\n",
        "openai.api_key = userdata.get(\"openai_api_key\")"
      ],
      "metadata": {
        "id": "Q54Xt4t9HfgM"
      },
      "execution_count": 1,
      "outputs": []
    },
    {
      "cell_type": "markdown",
      "source": [
        "#### Create chat completion\n",
        "주어진 채팅 대화에 대한 모델 응답을 생성합니다. 즉 대답의 성격을 정의할 수 있다. message와 model을 필수로 받아야한다. 이 방법은 전통적인 대화방식만 지원하고 있다. 만일 이미지 생성, 복잡한 에이전트 생성이 목적이면 __Resopnse api__를 사용해야한다.\n",
        "- message:      \n",
        "    지금까지의 대화를 구성하는 메시지 목록입니다. 사용하는 모델에 따라 텍스트, 이미지, 오디오 등 다양한 메시지 유형(모달리티)이 지원됩니다.\n",
        "- model:    \n",
        "    응답 생성에 사용되는 모델 ID(예: gpt-4o 또는 o3). OpenAI는 다양한 기능, 성능 특성 및 가격대를 갖춘 광범위한 모델을 제공합니다"
      ],
      "metadata": {
        "id": "jv_oebNuJIcz"
      }
    },
    {
      "cell_type": "code",
      "source": [
        "from openai import OpenAI\n",
        "client = OpenAI(api_key=openai.api_key)     # 전 셀에서 생성한 API키 변수를 모델 내부에 선언해줘야 한다.\n",
        "\n",
        "# 채팅 완성(Chat Completion) API 호출\n",
        "completion = client.chat.completions.create(\n",
        "  model=\"o3\",  # 사용할 AI 모델 지정 (o3 모델)\n",
        "  messages=[\n",
        "    # 시스템 메시지: AI의 역할과 행동 방식을 정의\n",
        "    {\"role\": \"system\", \"content\": \"당신은 한국어 AI 전문가입니다.\"},\n",
        "    # 사용자 메시지: 실제 사용자가 보낸 질문이나 요청\n",
        "    {\"role\": \"user\", \"content\": \"머신러닝과 딥러닝의 차이점을 설명해주세요.\"}\n",
        "  ]\n",
        ")\n",
        "\n",
        "# AI의 응답 메시지를 출력\n",
        "# completion.choices[0]은 첫 번째 응답 선택지\n",
        "# .message는 해당 응답의 메시지 내용\n",
        "print(completion.choices[0].message)"
      ],
      "metadata": {
        "id": "nzqWKVCCX-FI",
        "colab": {
          "base_uri": "https://localhost:8080/"
        },
        "outputId": "a38e8ccf-4e30-468a-862e-af8f20c172e1"
      },
      "execution_count": 6,
      "outputs": [
        {
          "output_type": "stream",
          "name": "stdout",
          "text": [
            "ChatCompletionMessage(content='머신러닝(ML)과 딥러닝(DL)은 모두 “데이터로부터 학습해 예측·판단을 수행하는” 인공지능 기법이지만, 접근 방식·모델 구조·필요 자원 등이 상당히 다릅니다. 핵심 차이점을 항목별로 정리하면 다음과 같습니다.\\n\\n1. 포함관계  \\n   • 딥러닝은 머신러닝의 한 분야(서브셋)입니다. 즉, 모든 딥러닝은 머신러닝이지만, 머신러닝이 곧 딥러닝은 아닙니다.\\n\\n2. 모델 구조  \\n   • 머신러닝(전통적 ML)\\u2002: 선형회귀, 로지스틱 회귀, SVM, 의사결정트리, 랜덤포레스트, 그래디언트부스팅 등 ‘얕은(shallow)’ 구조가 주류입니다. 은닉층이 없거나 1~2개 수준입니다.  \\n   • 딥러닝\\u2002: 수십~수천 개의 은닉층을 가진 인공신경망(MLP, CNN, RNN, Transformer 등)을 사용합니다. 계층이 깊어 ‘Deep’이라는 이름이 붙었습니다.\\n\\n3. 특징(Feature) 추출 방식  \\n   • ML\\u2002: 사람이 도메인 지식을 이용해 특징을 설계(feature engineering)하고, 모델은 그 특징만 활용해 학습합니다.  \\n   • DL\\u2002: 입력 데이터를 다층 구조를 통해 ‘저차원→고차원 표현’으로 자동 변환하며, 특징 추출과 분류/회귀를 동시에 학습합니다. 따라서 이미지·음성·텍스트 등 비정형 데이터에서 강력합니다.\\n\\n4. 데이터 요구량  \\n   • ML\\u2002: 비교적 적은 데이터(수천~수십만 샘플)로도 좋은 성능을 낼 수 있습니다.  \\n   • DL\\u2002: 일반적으로 대량의 학습 데이터(수십만~수억 샘플)가 필요하며, 데이터가 부족하면 과적합·성능저하가 두드러집니다.\\n\\n5. 계산 자원·훈련 시간  \\n   • ML\\u2002: CPU 환경에서도 빠르게 학습 가능.  \\n   • DL\\u2002: 수백만~수십억 개 파라미터를 학습하므로 GPU/TPU 등 병렬 연산 가속기가 필수에 가깝고, 학습 시간이 길어집니다.\\n\\n6. 성능 및 활용 분야  \\n   • ML\\u2002: 구조화(표·숫자형) 데이터 분석, 의사결정 지원, 이상 탐지 등에서 여전히 경쟁력이 높습니다.  \\n   • DL\\u2002: 이미지 분류·객체 탐지, 음성 인식, 기계 번역, 챗봇, 추천, 자율주행 등 대부분의 비정형·고차원 문제에서 최신 최고 성능(SOTA)을 기록 중입니다.\\n\\n7. 해석가능성(Explainability)  \\n   • ML\\u2002: 모델 구조가 단순해 회귀계수, 트리 분기 등으로 ‘왜 그런 예측을 했는지’ 상대적으로 설명이 쉽습니다.  \\n   • DL\\u2002: 내부 표현이 복잡해 ‘블랙박스’로 불리며, 시각화·SHAP·LIME 등 별도 해석 기법이 필요합니다.\\n\\n8. 하이퍼파라미터·튜닝 난이도  \\n   • ML\\u2002: 학습률, 정규화 계수 등 비교적 적은 수의 하이퍼파라미터.  \\n   • DL\\u2002: 층 수, 필터 크기, 활성화 함수, 배치 크기, 옵티마이저 등 조정 변수가 많고 실험 비용이 큽니다.\\n\\n9. 예시 비교  \\n   • 주택 가격 예측(수치·범주형 특성)\\u2009→\\u2009랜덤포레스트, XGBoost(ML)가 간단·효율적.  \\n   • 고해상도 이미지에서 고양이 vs 강아지 구분\\u2009→\\u2009CNN(딥러닝)이 압도적인 성능.\\n\\n정리  \\n- 머신러닝은 ‘문제 해결 프레임워크’, 딥러닝은 그중 ‘깊은 신경망’ 기반 접근입니다.  \\n- 사람이 특징을 설계하느냐(ML) vs 모델이 스스로 특징을 학습하느냐(DL)가 가장 직관적인 차이입니다.  \\n- 데이터 규모·컴퓨팅 자원·문제 유형에 맞춰 두 방법을 선택하거나, 둘을 조합한 하이브리드 접근도 흔히 사용됩니다.', refusal=None, role='assistant', annotations=[], audio=None, function_call=None, tool_calls=None)\n"
          ]
        }
      ]
    },
    {
      "cell_type": "markdown",
      "source": [
        "위 방식은 텍스트 데이터만 다룰 수 있다. 하지만 현재 AI는 텍스트 뿐만아니라 이미지, 보고서 등 여러데이터를 다루며 우리는 복잡한 멀티모달 에이전트를 생성해야한다."
      ],
      "metadata": {
        "id": "rrFxx30pTINT"
      }
    },
    {
      "cell_type": "markdown",
      "source": [
        "#### Response API\n",
        "\n",
        "OpenAI의 가장 진보된 모델 응답 생성 인터페이스다. 텍스트 및 이미지 입력과 텍스트 출력을 지원한다. 이전 응답의 출력을 입력으로 사용하여 모델과 상태 기반 상호작용을 생성한다. 파일 검색, 웹 검색, 컴퓨터 사용 등을 위한 내장 도구를 사용하여 모델의 기능을 확장한다. 함수 호출을 통해 모델이 외부 시스템 및 데이터에 액세스할 수 있도록 허용한다.\n",
        "https://platform.openai.com/docs/api-reference/responses\n",
        "\n",
        "response는 다양한 타임의 입력 값을 받는다 그에 대한 문서링크이다.\n",
        "- Text inputs and outputs: https://platform.openai.com/docs/guides/text\n",
        "- Image inputs: https://platform.openai.com/docs/guides/images\n",
        "- File inputs: https://platform.openai.com/docs/guides/pdf-files\n",
        "- Conversation state: https://platform.openai.com/docs/guides/conversation-state\n",
        "- Function calling: https://platform.openai.com/docs/guides/function-calling"
      ],
      "metadata": {
        "id": "oIf_0_-3Tk9Y"
      }
    },
    {
      "cell_type": "markdown",
      "source": [
        "**Create a model response**\n",
        "\n",
        "response는 여러종류의 데이터를 받을 수 있고 그만큼 파라미터도 다양하게 갖는다. 예제 코드처럼 최소한으로 작성도 가능하지만 기능에따라 새로운 파리미터를 추가 할 수 있다.\n",
        "https://platform.openai.com/docs/api-reference/responses/create"
      ],
      "metadata": {
        "id": "_kaxxztOXBuu"
      }
    },
    {
      "cell_type": "code",
      "source": [
        "from openai import OpenAI\n",
        "\n",
        "client = OpenAI(api_key=openai.api_key)\n",
        "\n",
        "response = client.responses.create(\n",
        "  model=\"gpt-4.1\",\n",
        "  input=\"머신러닝과 딥러닝의 차이점을 설명해주세요.\"\n",
        ")\n",
        "\n",
        "print(response)\n",
        "print(response.output_text)"
      ],
      "metadata": {
        "colab": {
          "base_uri": "https://localhost:8080/"
        },
        "id": "Ivx_5DpCUClk",
        "outputId": "6dae4e20-c788-47ab-d0e0-4d0b413903cc"
      },
      "execution_count": 11,
      "outputs": [
        {
          "output_type": "stream",
          "name": "stdout",
          "text": [
            "Response(id='resp_68a7c2ff2c3c81a3a7048102099006480e2a3aeb7681029c', created_at=1755824895.0, error=None, incomplete_details=None, instructions=None, metadata={}, model='gpt-4.1-2025-04-14', object='response', output=[ResponseOutputMessage(id='msg_68a7c2ffcf4c81a38e5e44be112ae6160e2a3aeb7681029c', content=[ResponseOutputText(annotations=[], text=\"물론입니다! 머신러닝(Machine Learning)과 딥러닝(Deep Learning)은 모두 인공지능(AI, Artificial Intelligence)의 한 분야이지만, 몇 가지 중요한 차이점이 있습니다.\\n\\n---\\n### 1. **정의**\\n\\n- **머신러닝(Machine Learning)**\\n  - 컴퓨터가 명시적으로 프로그래밍되지 않고도 데이터를 통해 학습하게 하는 기술입니다.\\n  - 데이터에서 패턴을 찾고 예측을 수행하는 다양한 알고리즘(예: 선형회귀, 의사결정트리, SVM 등)이 포함됩니다.\\n\\n- **딥러닝(Deep Learning)**\\n  - 머신러닝의 한 분야로, 인공 신경망(특히, 여러 층의 '딥(Deep)'한 신경망)을 사용해 학습하는 기술입니다.\\n  - 이미지, 음성, 자연어와 같이 복잡하고 비정형적인 데이터를 효과적으로 처리할 수 있습니다.\\n\\n---\\n\\n### 2. **구조 및 알고리즘**\\n\\n- **머신러닝**  \\n  - 전통적으로 특징(Feature)을 사람이 설계(Feature Engineering)해야 합니다.\\n  - 대표적인 알고리즘: 선형회귀, 로지스틱 회귀, K-최근접 이웃, SVM, 결정 트리 등\\n\\n- **딥러닝**  \\n  - 다층 신경망(Deep Neural Network)을 사용하며, 특징 추출도 자동으로 수행합니다.\\n  - 대표적인 구조: CNN(합성곱 신경망), RNN(순환 신경망), 트랜스포머 등\\n\\n---\\n\\n### 3. **데이터 요구량**\\n\\n- **머신러닝**: 상대적으로 적은 데이터로도 동작 가능\\n- **딥러닝**: 대량의 데이터 필요 (특히 학습의 성능을 극대화하려면)\\n\\n---\\n\\n### 4. **계산 자원**\\n\\n- **머신러닝**: 비교적 적은 계산 자원 필요  \\n- **딥러닝**: GPU 같은 고성능 하드웨어가 요구됨 (계산량이 많음)\\n\\n---\\n\\n### 5. **적용 분야**\\n\\n| 머신러닝                | 딥러닝                               |\\n|-----------------------|------------------------------------|\\n| 신용카드 사기 탐지          | 이미지, 영상, 음성 인식                   |\\n| 의료 기록 분석             | 자율주행차, 자연어 처리(챗봇, 번역)           |\\n| 마케팅 데이터 분석           | 게임, 로봇 등 움직임 인식                  |\\n| 간단한 추천 시스템           | 복잡한 추천 시스템, 생성형 AI(그림, 텍스트 등)  |\\n\\n---\\n\\n### **요약**\\n\\n- 머신러닝은 딥러닝을 포함하는 더 넓은 개념이다.\\n- 딥러닝은 심층신경망 기반의 머신러닝 방법.\\n- 딥러닝은 데이터와 연산 자원이 많을 때 더 강력하다.\\n\\n---\\n\\n궁금한 점이 더 있으면 예시나 그림으로도 설명드릴 수 있습니다!\", type='output_text', logprobs=[])], role='assistant', status='completed', type='message')], parallel_tool_calls=True, temperature=1.0, tool_choice='auto', tools=[], top_p=1.0, background=False, max_output_tokens=None, max_tool_calls=None, previous_response_id=None, prompt=None, prompt_cache_key=None, reasoning=Reasoning(effort=None, generate_summary=None, summary=None), safety_identifier=None, service_tier='default', status='completed', text=Text(format=ResponseFormatText(type='text'), verbosity='medium'), top_logprobs=0, truncation='disabled', usage=ResponseUsage(input_tokens=23, input_tokens_details=InputTokensDetails(cached_tokens=0), output_tokens=667, output_tokens_details=OutputTokensDetails(reasoning_tokens=0), total_tokens=690), user=None, store=True)\n",
            "물론입니다! 머신러닝(Machine Learning)과 딥러닝(Deep Learning)은 모두 인공지능(AI, Artificial Intelligence)의 한 분야이지만, 몇 가지 중요한 차이점이 있습니다.\n",
            "\n",
            "---\n",
            "### 1. **정의**\n",
            "\n",
            "- **머신러닝(Machine Learning)**\n",
            "  - 컴퓨터가 명시적으로 프로그래밍되지 않고도 데이터를 통해 학습하게 하는 기술입니다.\n",
            "  - 데이터에서 패턴을 찾고 예측을 수행하는 다양한 알고리즘(예: 선형회귀, 의사결정트리, SVM 등)이 포함됩니다.\n",
            "\n",
            "- **딥러닝(Deep Learning)**\n",
            "  - 머신러닝의 한 분야로, 인공 신경망(특히, 여러 층의 '딥(Deep)'한 신경망)을 사용해 학습하는 기술입니다.\n",
            "  - 이미지, 음성, 자연어와 같이 복잡하고 비정형적인 데이터를 효과적으로 처리할 수 있습니다.\n",
            "\n",
            "---\n",
            "\n",
            "### 2. **구조 및 알고리즘**\n",
            "\n",
            "- **머신러닝**  \n",
            "  - 전통적으로 특징(Feature)을 사람이 설계(Feature Engineering)해야 합니다.\n",
            "  - 대표적인 알고리즘: 선형회귀, 로지스틱 회귀, K-최근접 이웃, SVM, 결정 트리 등\n",
            "\n",
            "- **딥러닝**  \n",
            "  - 다층 신경망(Deep Neural Network)을 사용하며, 특징 추출도 자동으로 수행합니다.\n",
            "  - 대표적인 구조: CNN(합성곱 신경망), RNN(순환 신경망), 트랜스포머 등\n",
            "\n",
            "---\n",
            "\n",
            "### 3. **데이터 요구량**\n",
            "\n",
            "- **머신러닝**: 상대적으로 적은 데이터로도 동작 가능\n",
            "- **딥러닝**: 대량의 데이터 필요 (특히 학습의 성능을 극대화하려면)\n",
            "\n",
            "---\n",
            "\n",
            "### 4. **계산 자원**\n",
            "\n",
            "- **머신러닝**: 비교적 적은 계산 자원 필요  \n",
            "- **딥러닝**: GPU 같은 고성능 하드웨어가 요구됨 (계산량이 많음)\n",
            "\n",
            "---\n",
            "\n",
            "### 5. **적용 분야**\n",
            "\n",
            "| 머신러닝                | 딥러닝                               |\n",
            "|-----------------------|------------------------------------|\n",
            "| 신용카드 사기 탐지          | 이미지, 영상, 음성 인식                   |\n",
            "| 의료 기록 분석             | 자율주행차, 자연어 처리(챗봇, 번역)           |\n",
            "| 마케팅 데이터 분석           | 게임, 로봇 등 움직임 인식                  |\n",
            "| 간단한 추천 시스템           | 복잡한 추천 시스템, 생성형 AI(그림, 텍스트 등)  |\n",
            "\n",
            "---\n",
            "\n",
            "### **요약**\n",
            "\n",
            "- 머신러닝은 딥러닝을 포함하는 더 넓은 개념이다.\n",
            "- 딥러닝은 심층신경망 기반의 머신러닝 방법.\n",
            "- 딥러닝은 데이터와 연산 자원이 많을 때 더 강력하다.\n",
            "\n",
            "---\n",
            "\n",
            "궁금한 점이 더 있으면 예시나 그림으로도 설명드릴 수 있습니다!\n"
          ]
        }
      ]
    },
    {
      "cell_type": "markdown",
      "source": [
        "`.out_put`을 사용하면 모델의 질문에 대한 답변을 볼 수 있다. 보면 기본적으로 마크다운 언어로 출력되는 것을 알 수 있다."
      ],
      "metadata": {
        "id": "Fxcjoo-nU669"
      }
    },
    {
      "cell_type": "markdown",
      "source": [
        "#### Get a model response\n",
        "\n",
        "위에서 response에는 ID가 할당이된다. 이 ID를 변수로 사용하여 대화를 불러 올 수 있다. 내가 어떤 질문을 했고 그에대한 결과를 확인 할 수 있다."
      ],
      "metadata": {
        "id": "38VfDO3FXqH7"
      }
    },
    {
      "cell_type": "code",
      "source": [
        "# from openai import OpenAI\n",
        "# client = OpenAI()\n",
        "\n",
        "response = client.responses.retrieve(\"resp_68a7c2ff2c3c81a3a7048102099006480e2a3aeb7681029c\")\n",
        "print(response)"
      ],
      "metadata": {
        "colab": {
          "base_uri": "https://localhost:8080/"
        },
        "id": "_BAOisu0Xdf7",
        "outputId": "7019ed68-1245-407c-90d1-31b578749e51"
      },
      "execution_count": 13,
      "outputs": [
        {
          "output_type": "stream",
          "name": "stdout",
          "text": [
            "Response(id='resp_68a7c2ff2c3c81a3a7048102099006480e2a3aeb7681029c', created_at=1755824895.0, error=None, incomplete_details=None, instructions=None, metadata={}, model='gpt-4.1-2025-04-14', object='response', output=[ResponseOutputMessage(id='msg_68a7c2ffcf4c81a38e5e44be112ae6160e2a3aeb7681029c', content=[ResponseOutputText(annotations=[], text=\"물론입니다! 머신러닝(Machine Learning)과 딥러닝(Deep Learning)은 모두 인공지능(AI, Artificial Intelligence)의 한 분야이지만, 몇 가지 중요한 차이점이 있습니다.\\n\\n---\\n### 1. **정의**\\n\\n- **머신러닝(Machine Learning)**\\n  - 컴퓨터가 명시적으로 프로그래밍되지 않고도 데이터를 통해 학습하게 하는 기술입니다.\\n  - 데이터에서 패턴을 찾고 예측을 수행하는 다양한 알고리즘(예: 선형회귀, 의사결정트리, SVM 등)이 포함됩니다.\\n\\n- **딥러닝(Deep Learning)**\\n  - 머신러닝의 한 분야로, 인공 신경망(특히, 여러 층의 '딥(Deep)'한 신경망)을 사용해 학습하는 기술입니다.\\n  - 이미지, 음성, 자연어와 같이 복잡하고 비정형적인 데이터를 효과적으로 처리할 수 있습니다.\\n\\n---\\n\\n### 2. **구조 및 알고리즘**\\n\\n- **머신러닝**  \\n  - 전통적으로 특징(Feature)을 사람이 설계(Feature Engineering)해야 합니다.\\n  - 대표적인 알고리즘: 선형회귀, 로지스틱 회귀, K-최근접 이웃, SVM, 결정 트리 등\\n\\n- **딥러닝**  \\n  - 다층 신경망(Deep Neural Network)을 사용하며, 특징 추출도 자동으로 수행합니다.\\n  - 대표적인 구조: CNN(합성곱 신경망), RNN(순환 신경망), 트랜스포머 등\\n\\n---\\n\\n### 3. **데이터 요구량**\\n\\n- **머신러닝**: 상대적으로 적은 데이터로도 동작 가능\\n- **딥러닝**: 대량의 데이터 필요 (특히 학습의 성능을 극대화하려면)\\n\\n---\\n\\n### 4. **계산 자원**\\n\\n- **머신러닝**: 비교적 적은 계산 자원 필요  \\n- **딥러닝**: GPU 같은 고성능 하드웨어가 요구됨 (계산량이 많음)\\n\\n---\\n\\n### 5. **적용 분야**\\n\\n| 머신러닝                | 딥러닝                               |\\n|-----------------------|------------------------------------|\\n| 신용카드 사기 탐지          | 이미지, 영상, 음성 인식                   |\\n| 의료 기록 분석             | 자율주행차, 자연어 처리(챗봇, 번역)           |\\n| 마케팅 데이터 분석           | 게임, 로봇 등 움직임 인식                  |\\n| 간단한 추천 시스템           | 복잡한 추천 시스템, 생성형 AI(그림, 텍스트 등)  |\\n\\n---\\n\\n### **요약**\\n\\n- 머신러닝은 딥러닝을 포함하는 더 넓은 개념이다.\\n- 딥러닝은 심층신경망 기반의 머신러닝 방법.\\n- 딥러닝은 데이터와 연산 자원이 많을 때 더 강력하다.\\n\\n---\\n\\n궁금한 점이 더 있으면 예시나 그림으로도 설명드릴 수 있습니다!\", type='output_text', logprobs=[])], role='assistant', status='completed', type='message')], parallel_tool_calls=True, temperature=1.0, tool_choice='auto', tools=[], top_p=1.0, background=False, max_output_tokens=None, max_tool_calls=None, previous_response_id=None, prompt=None, prompt_cache_key=None, reasoning=Reasoning(effort=None, generate_summary=None, summary=None), safety_identifier=None, service_tier='default', status='completed', text=Text(format=ResponseFormatText(type='text'), verbosity='medium'), top_logprobs=0, truncation='disabled', usage=ResponseUsage(input_tokens=23, input_tokens_details=InputTokensDetails(cached_tokens=0), output_tokens=667, output_tokens_details=OutputTokensDetails(reasoning_tokens=0), total_tokens=690), user=None, store=True)\n"
          ]
        }
      ]
    },
    {
      "cell_type": "markdown",
      "source": [
        "#### Delete a model response\n",
        "\n",
        "모델의 응답을 자울 수 있다."
      ],
      "metadata": {
        "id": "nANsqFEqYY0S"
      }
    },
    {
      "cell_type": "code",
      "source": [
        "# from openai import OpenAI\n",
        "# client = OpenAI()\n",
        "\n",
        "response = client.responses.delete(\"resp_68a7c2ff2c3c81a3a7048102099006480e2a3aeb7681029c\")\n",
        "print(response)"
      ],
      "metadata": {
        "colab": {
          "base_uri": "https://localhost:8080/"
        },
        "id": "ezTu-umzYTXr",
        "outputId": "ab883b8b-562f-4bb9-d640-9e5c06194a34"
      },
      "execution_count": 14,
      "outputs": [
        {
          "output_type": "stream",
          "name": "stdout",
          "text": [
            "None\n"
          ]
        }
      ]
    },
    {
      "cell_type": "markdown",
      "source": [
        "#### Cancel a response\n",
        "\n",
        "지정된 ID로 모델 응답을 취소합니다. background 매개변수를 true로 설정하여 생성된 응답만 취소할 수 있습니다.\n",
        "__`background=True`인 response만 취소가능하다.__"
      ],
      "metadata": {
        "id": "uvLi9TMQYe0j"
      }
    },
    {
      "cell_type": "code",
      "source": [
        "from openai import OpenAI\n",
        "\n",
        "client = OpenAI(api_key=openai.api_key)\n",
        "\n",
        "response = client.responses.create(\n",
        "  model=\"gpt-4.1\",\n",
        "  input=\"머신러닝과 딥러닝의 차이점을 설명해주세요.\",\n",
        "  background=True,\n",
        ")\n",
        "print(response.id)"
      ],
      "metadata": {
        "colab": {
          "base_uri": "https://localhost:8080/"
        },
        "id": "hQpXhorHYynh",
        "outputId": "1fee0174-3add-4023-9438-490b9768cff1"
      },
      "execution_count": 24,
      "outputs": [
        {
          "output_type": "stream",
          "name": "stdout",
          "text": [
            "resp_68a7c846d1d881a2937103176c5c42ea03ffcea06ed83b64\n"
          ]
        }
      ]
    },
    {
      "cell_type": "code",
      "source": [
        "# from openai import OpenAI\n",
        "# client = OpenAI()\n",
        "\n",
        "response = client.responses.cancel(\"resp_68a7c846d1d881a2937103176c5c42ea03ffcea06ed83b64\")\n",
        "print(response)"
      ],
      "metadata": {
        "colab": {
          "base_uri": "https://localhost:8080/"
        },
        "id": "c3ha-I3sYpCk",
        "outputId": "8cb41751-faed-4b7e-aa24-d23f64328a55"
      },
      "execution_count": 25,
      "outputs": [
        {
          "output_type": "stream",
          "name": "stdout",
          "text": [
            "Response(id='resp_68a7c846d1d881a2937103176c5c42ea03ffcea06ed83b64', created_at=1755826246.0, error=None, incomplete_details=None, instructions=None, metadata={}, model='gpt-4.1-2025-04-14', object='response', output=[], parallel_tool_calls=True, temperature=1.0, tool_choice='auto', tools=[], top_p=1.0, background=True, max_output_tokens=None, max_tool_calls=None, previous_response_id=None, prompt=None, prompt_cache_key=None, reasoning=Reasoning(effort=None, generate_summary=None, summary=None), safety_identifier=None, service_tier='auto', status='cancelled', text=Text(format=ResponseFormatText(type='text'), verbosity='medium'), top_logprobs=0, truncation='disabled', usage=None, user=None, store=True)\n"
          ]
        }
      ]
    },
    {
      "cell_type": "markdown",
      "source": [
        "#### List input items\n",
        "\n",
        "주어진 응답에 대한 입력 항목 목록을 반환합니다."
      ],
      "metadata": {
        "id": "XU4aH4otaAw_"
      }
    },
    {
      "cell_type": "code",
      "source": [
        "from openai import OpenAI\n",
        "\n",
        "client = OpenAI(api_key=openai.api_key)\n",
        "\n",
        "response = client.responses.create(\n",
        "  model=\"gpt-4.1\",\n",
        "  input=\"머신러닝과 딥러닝의 차이점을 설명해주세요.\",\n",
        "  background=True,\n",
        ")\n",
        "print(response.id)"
      ],
      "metadata": {
        "colab": {
          "base_uri": "https://localhost:8080/"
        },
        "id": "m0oeQnC1Z5-q",
        "outputId": "274a9795-85e4-40fa-d496-e48109532bb6"
      },
      "execution_count": 26,
      "outputs": [
        {
          "output_type": "stream",
          "name": "stdout",
          "text": [
            "resp_68a7c8c5f5d08192a7b3c270a270c58c0ba2fe2deadea4d8\n"
          ]
        }
      ]
    },
    {
      "cell_type": "code",
      "source": [
        "# from openai import OpenAI\n",
        "# client = OpenAI()\n",
        "\n",
        "response = client.responses.input_items.list(\"resp_68a7c8c5f5d08192a7b3c270a270c58c0ba2fe2deadea4d8\")\n",
        "print(response.data)"
      ],
      "metadata": {
        "colab": {
          "base_uri": "https://localhost:8080/"
        },
        "id": "_JuuuLjAZ8zs",
        "outputId": "9b2f3bb9-4439-4efc-a461-3a7d742d5c5a"
      },
      "execution_count": 27,
      "outputs": [
        {
          "output_type": "stream",
          "name": "stdout",
          "text": [
            "[ResponseInputMessageItem(id='msg_68a7c8c5fd908192b8464ebcb3b657b20ba2fe2deadea4d8', content=[ResponseInputText(text='머신러닝과 딥러닝의 차이점을 설명해주세요.', type='input_text')], role='user', status='completed', type='message')]\n"
          ]
        }
      ]
    },
    {
      "cell_type": "markdown",
      "source": [
        "#### The response object\n",
        "\n",
        "response에는 여러 object가 있다.\n",
        "https://platform.openai.com/docs/api-reference/responses/object\n",
        "이곳에 설명이 잘 되어있으니 참고하도록 하자."
      ],
      "metadata": {
        "id": "dnZZw5jqaNCP"
      }
    },
    {
      "cell_type": "markdown",
      "source": [
        "#### The input item list\n",
        "\n",
        "Response items의 리스트에 관한 설명 링크이다.\n",
        "https://platform.openai.com/docs/api-reference/responses/list"
      ],
      "metadata": {
        "id": "ChHWg9DSasXA"
      }
    },
    {
      "cell_type": "markdown",
      "source": [
        "### Claude API\n",
        "\n",
        "- https://docs.anthropic.com/claude/reference\n",
        "    - Messages API 사용법\n",
        "    - 모델별 특징 비교\n",
        "\n",
        "- https://docs.anthropic.com/claude/page/prompts\n",
        "    - 프롬프트 엔지니어링 학습\n",
        "\n",
        "- Claude.ai: https://claude.ai/\n",
        "    - 웹에서 바로 테스트 가능"
      ],
      "metadata": {
        "id": "rOfMzjuVYhPh"
      }
    },
    {
      "cell_type": "code",
      "source": [],
      "metadata": {
        "id": "ALhMkEUAY5ec"
      },
      "execution_count": null,
      "outputs": []
    }
  ]
}