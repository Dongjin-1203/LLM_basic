{
  "nbformat": 4,
  "nbformat_minor": 0,
  "metadata": {
    "colab": {
      "provenance": [],
      "authorship_tag": "ABX9TyOxEBylnnMk2nrsvm07qcNg",
      "include_colab_link": true
    },
    "kernelspec": {
      "name": "python3",
      "display_name": "Python 3"
    },
    "language_info": {
      "name": "python"
    }
  },
  "cells": [
    {
      "cell_type": "markdown",
      "metadata": {
        "id": "view-in-github",
        "colab_type": "text"
      },
      "source": [
        "<a href=\"https://colab.research.google.com/github/Dongjin-1203/LLM_basic/blob/main/API_key_practice.ipynb\" target=\"_parent\"><img src=\"https://colab.research.google.com/assets/colab-badge.svg\" alt=\"Open In Colab\"/></a>"
      ]
    },
    {
      "cell_type": "markdown",
      "source": [
        "# API 키 활용 및 연습\n",
        "\n",
        "이 파일은 API키를 등록하고 openai, claude api를 불러와 간단한 실습을 해볼 예정이다."
      ],
      "metadata": {
        "id": "fn5Ww69cV_Ny"
      }
    },
    {
      "cell_type": "markdown",
      "source": [
        "## 1. API 불러오기"
      ],
      "metadata": {
        "id": "GoDxcg7hWOvy"
      }
    },
    {
      "cell_type": "code",
      "execution_count": null,
      "metadata": {
        "id": "k3EeWADdPYNm"
      },
      "outputs": [],
      "source": [
        "# 로컬 방식\n",
        "import os\n",
        "import openai\n",
        "\n",
        "# API 가져오기\n",
        "openai.api_key = os.environ[\"openai_api_key\"]"
      ]
    },
    {
      "cell_type": "markdown",
      "source": [
        "이 방식은 로컬, 코랩 둘다 사용가능한 방식이다. env파일내부의 api변수를 찾아오는 방식이다. 코랩환경에서 env파일을 올리는 것은 그닥 좋은 방법이 아닌 듯 하다."
      ],
      "metadata": {
        "id": "-ul7Mf4FWVwT"
      }
    },
    {
      "cell_type": "code",
      "source": [
        "# Colab 방식\n",
        "from google.colab import userdata\n",
        "import openai\n",
        "\n",
        "openai.api_key = userdata.get(\"openai_api_key\")"
      ],
      "metadata": {
        "id": "_on32wORWnRs"
      },
      "execution_count": 2,
      "outputs": []
    },
    {
      "cell_type": "code",
      "source": [],
      "metadata": {
        "id": "tXfhYpPEWw73"
      },
      "execution_count": null,
      "outputs": []
    },
    {
      "cell_type": "markdown",
      "source": [
        "## 2. API 실습\n",
        "\n",
        "Learn Prompting: https://learnprompting.org/    \n",
        "    - 무료 온라인 코스, 한국어 지원\n",
        "\n",
        "📖 심화 학습 자료\n",
        "\n",
        "1. \"The Prompt Report\" - 프롬프트 엔지니어링 가이드북\n",
        "2. YouTube - \"Prompt Engineering by Andrew Ng\"\n",
        "3. GitHub - Awesome Prompts: https://github.com/f/awesome-chatgpt-prompts"
      ],
      "metadata": {
        "id": "W2BO2Wg2X2bO"
      }
    },
    {
      "cell_type": "markdown",
      "source": [
        "### Openai API\n",
        "\n",
        "- https://platform.openai.com/docs\n",
        "    - Chat Completions 섹션 중점 학습\n",
        "    - Rate limits, Pricing 꼭 확인\n",
        "- https://platform.openai.com/docs/guides/prompt-engineering\n",
        "    - 프롬프트 엔지니어링 학습\n",
        "- https://platform.openai.com/playground\n",
        "    - 코드 작성 전 프롬프트 테스트"
      ],
      "metadata": {
        "id": "FT2XTCA0X-fw"
      }
    },
    {
      "cell_type": "code",
      "source": [],
      "metadata": {
        "id": "nzqWKVCCX-FI"
      },
      "execution_count": null,
      "outputs": []
    },
    {
      "cell_type": "markdown",
      "source": [
        "### Claude API\n",
        "\n",
        "- https://docs.anthropic.com/claude/reference\n",
        "    - Messages API 사용법\n",
        "    - 모델별 특징 비교\n",
        "\n",
        "- https://docs.anthropic.com/claude/page/prompts\n",
        "    - 프롬프트 엔지니어링 학습\n",
        "\n",
        "- Claude.ai: https://claude.ai/\n",
        "    - 웹에서 바로 테스트 가능"
      ],
      "metadata": {
        "id": "rOfMzjuVYhPh"
      }
    },
    {
      "cell_type": "code",
      "source": [],
      "metadata": {
        "id": "ALhMkEUAY5ec"
      },
      "execution_count": null,
      "outputs": []
    }
  ]
}